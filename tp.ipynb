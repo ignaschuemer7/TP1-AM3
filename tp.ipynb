{
 "cells": [
  {
   "cell_type": "markdown",
   "metadata": {},
   "source": [
    "# **Análisis Matemático III - Ingeniería en Inteligencia Artificial** \n",
    "## *Trabajo práctico 1 - Series de Fourier*\n",
    "\n",
    "##### - Santos Torrado, Segundo (34349)\n",
    "##### - Schuemer, Ignacio (34575)\n",
    "##### - Torres, Santiago Tomas (34580)"
   ]
  },
  {
   "cell_type": "markdown",
   "metadata": {},
   "source": [
    "Una señal f(t) periódica cumple las condiciones de Dirichlet si en cualquier período:\n",
    "+ tiene un número finito de máximos y mínimos aislados.\n",
    "+ tiene un número finito de puntos de discontinuidad finita.\n",
    "+ $f(t)$ debe ser absolutamente integrable sobre un período. $$\\int_{T_o}\\left|x(t)\\right|dt < \\infty$$\n",
    " "
   ]
  },
  {
   "cell_type": "markdown",
   "metadata": {},
   "source": [
    "1. Analizamos para las señales de tren de pulso y diente de sierra sierra si cumple las condiciones de Dirichlet:"
   ]
  },
  {
   "cell_type": "markdown",
   "metadata": {},
   "source": [
    "$\\text{ Tren de pulso } \\rightarrow x(t) = A \\textit{ sgn}(\\sin(2\\pi f t))$"
   ]
  },
  {
   "cell_type": "markdown",
   "metadata": {},
   "source": [
    "El tren de pulso cumple con las condiciones de Dirichlet ya que en todo período de longitud $\\frac{1}{f}$ tiene una cantidad finita de discontinuidades de saltos finitos, en particular tomando el intervalo $[0, \\frac{1}{f}]$ tiene 3 discontinuidades en cada intervalo ( en $t = 0$, $\\frac{1}{2f}$, $\\frac{1}{f}$). Además esas discontinuidades tienen saltos de largo $A$, por lo tanto finito. Por último, $x(t)$ es absolutamente integrable sobre un período, convergiendo dicha integral a $\\frac{A}{f}$."
   ]
  },
  {
   "cell_type": "markdown",
   "metadata": {},
   "source": [
    "$ \\text{Diente de sierra } \\rightarrow y(t) = A (t f - \\lfloor\\frac{1}{2}+tf\\rfloor)$"
   ]
  },
  {
   "cell_type": "markdown",
   "metadata": {},
   "source": [
    "El diente de sierra cumple con las condiciones de Dirichlet ya que en todo período de longitud $\\frac{1}{f}$ tiene una cantidad finita de discontinuidades de saltos finitos, en particular tomando el intervalo $[0, \\frac{1}{f}]$ tiene una discontinuidad en cada intervalo ( en $t =\\frac{1}{2f}$). Además esta discontinuidad tiene un salto de largo $A$, por lo tanto finito. Por último, $x(t)$ es absolutamente integrable sobre un período, convergiendo dicha integral a $\\frac{A}{4f}$."
   ]
  },
  {
   "cell_type": "markdown",
   "metadata": {},
   "source": []
  }
 ],
 "metadata": {
  "language_info": {
   "name": "python"
  },
  "orig_nbformat": 4
 },
 "nbformat": 4,
 "nbformat_minor": 2
}
